{
 "cells": [
  {
   "cell_type": "markdown",
   "id": "ac52cf4d",
   "metadata": {},
   "source": [
    "# Unit Commitment Problem with Machine Learning\n",
    "In this notebook, we solve a unit commitment problem for a power system using optimization and machine learning. We use binary classification to predict the on/off status of each generator based on system conditions, aiming to accelerate the unit commitment process."
   ]
  },
  {
   "cell_type": "code",
   "execution_count": null,
   "id": "ffc18b49",
   "metadata": {},
   "outputs": [],
   "source": [
    "import numpy as np\n",
    "from gurobipy import Model, GRB, quicksum\n",
    "from sklearn.model_selection import train_test_split\n",
    "from sklearn.linear_model import LogisticRegression\n",
    "from sklearn.tree import DecisionTreeClassifier\n",
    "from sklearn.metrics import accuracy_score"
   ]
  },
  {
   "cell_type": "markdown",
   "id": "9fe0640f",
   "metadata": {},
   "source": [
    "## Step 1: Define the Unit Commitment Model"
   ]
  },
  {
   "cell_type": "code",
   "execution_count": null,
   "id": "c5eae1d5",
   "metadata": {},
   "outputs": [],
   "source": [
    "def unit_commitment(loads, wind_production, gen_cost, startup_cost, P_max, P_min, min_up_time, min_down_time):\n",
    "    \"\"\"\n",
    "    Solve a simple unit commitment problem.\n",
    "    Parameters:\n",
    "        loads (list): A list of load values over time.\n",
    "        wind_production (list): A list of wind generation values over time.\n",
    "        gen_cost (list): Cost of generation for each generator.\n",
    "        startup_cost (list): Startup costs for each generator.\n",
    "        P_max (list): Max power capacity for each generator.\n",
    "        P_min (list): Min power capacity for each generator.\n",
    "        min_up_time (list): Minimum up time for each generator.\n",
    "        min_down_time (list): Minimum down time for each generator.\n",
    "    Returns:\n",
    "        dict: Dictionary of binary unit on/off statuses for each generator and time.\n",
    "    \"\"\"\n",
    "    time_periods = len(loads)\n",
    "    num_generators = len(gen_cost)\n",
    "\n",
    "    # Initialize the optimization model\n",
    "    model = Model('UnitCommitment')\n",
    "\n",
    "    # Decision variables\n",
    "    u = model.addVars(num_generators, time_periods, vtype=GRB.BINARY, name='u')  # On/Off status\n",
    "    P = model.addVars(num_generators, time_periods, vtype=GRB.CONTINUOUS, name='P')  # Power output\n",
    "\n",
    "    # Objective function: Minimize generation and startup costs\n",
    "    model.setObjective(\n",
    "        quicksum(gen_cost[i] * P[i, t] + startup_cost[i] * u[i, t]\n",
    "                 for i in range(num_generators) for t in range(time_periods)),\n",
    "        GRB.MINIMIZE\n",
    "    )\n",
    "\n",
    "    # Constraints\n",
    "    for t in range(time_periods):\n",
    "        # Power balance constraint: generation + wind = load\n",
    "        model.addConstr(quicksum(P[i, t] for i in range(num_generators)) + wind_production[t] == loads[t])\n",
    "\n",
    "        for i in range(num_generators):\n",
    "            # Generation limits\n",
    "            model.addConstr(P_min[i] * u[i, t] <= P[i, t])\n",
    "            model.addConstr(P[i, t] <= P_max[i] * u[i, t])\n",
    "\n",
    "    # Solve the model\n",
    "    model.optimize()\n",
    "\n",
    "    # Extract results\n",
    "    unit_status = {(i, t): u[i, t].X for i in range(num_generators) for t in range(time_periods)}\n",
    "    return unit_status"
   ]
  },
  {
   "cell_type": "markdown",
   "id": "7d10c059",
   "metadata": {},
   "source": [
    "## Step 2: Data Preparation - Generating Synthetic Data"
   ]
  },
  {
   "cell_type": "code",
   "execution_count": null,
   "id": "39ae2c3d",
   "metadata": {},
   "outputs": [],
   "source": [
    "def generate_samples(num_samples, time_periods):\n",
    "    loads = np.random.uniform(50, 100, (num_samples, time_periods))\n",
    "    wind_production = np.random.uniform(10, 40, (num_samples, time_periods))\n",
    "    return loads, wind_production\n",
    "\n",
    "# Example setup\n",
    "num_samples = 50\n",
    "time_periods = 24\n",
    "\n",
    "loads, wind_production = generate_samples(num_samples, time_periods)\n",
    "\n",
    "# Running the model for each sample to collect training data\n",
    "training_data = []\n",
    "gen_cost = [20, 25, 30]\n",
    "startup_cost = [100, 100, 100]\n",
    "P_max = [100, 80, 60]\n",
    "P_min = [20, 10, 10]\n",
    "min_up_time = [1, 1, 1]\n",
    "min_down_time = [1, 1, 1]\n",
    "\n",
    "for i in range(num_samples):\n",
    "    status = unit_commitment(\n",
    "        loads[i], wind_production[i], gen_cost, startup_cost, P_max, P_min, min_up_time, min_down_time\n",
    "    )\n",
    "    training_data.append((loads[i], wind_production[i], status))"
   ]
  },
  {
   "cell_type": "markdown",
   "id": "5ef1290c",
   "metadata": {},
   "source": [
    "## Step 3: Prepare Data for Classification"
   ]
  },
  {
   "cell_type": "code",
   "execution_count": null,
   "id": "16f499c9",
   "metadata": {},
   "outputs": [],
   "source": [
    "features = []\n",
    "labels = []\n",
    "\n",
    "for load, wind, status in training_data:\n",
    "    for t in range(time_periods):\n",
    "        features.append([load[t], wind[t]])\n",
    "        labels.append([status[(i, t)] for i in range(len(gen_cost))])  # On/off status for each generator\n",
    "\n",
    "# Split dataset\n",
    "X_train, X_test, y_train, y_test = train_test_split(features, labels, test_size=0.2, random_state=42)"
   ]
  },
  {
   "cell_type": "markdown",
   "id": "d806389e",
   "metadata": {},
   "source": [
    "## Step 4: Train and Evaluate Classifiers"
   ]
  },
  {
   "cell_type": "code",
   "execution_count": null,
   "id": "4b6228cd",
   "metadata": {},
   "outputs": [],
   "source": [
    "classifiers = []\n",
    "for i in range(len(gen_cost)):\n",
    "    clf = LogisticRegression()\n",
    "    y_train_gen = [y[i] for y in y_train]  # Train labels for generator `i`\n",
    "    clf.fit(X_train, y_train_gen)\n",
    "    classifiers.append(clf)\n",
    "\n",
    "# Evaluate the models\n",
    "for i, clf in enumerate(classifiers):\n",
    "    y_test_gen = [y[i] for y in y_test]\n",
    "    y_pred = clf.predict(X_test)\n",
    "    print(f'Generator {i+1} Accuracy: {accuracy_score(y_test_gen, y_pred)}')"
   ]
  }
 ],
 "metadata": {},
 "nbformat": 4,
 "nbformat_minor": 5
}
